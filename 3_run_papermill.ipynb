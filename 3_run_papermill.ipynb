{
 "cells": [
  {
   "cell_type": "code",
   "execution_count": null,
   "id": "ae695145",
   "metadata": {},
   "outputs": [
    {
     "data": {
      "application/vnd.jupyter.widget-view+json": {
       "model_id": "b7369841528c4361a564a2530f06ed63",
       "version_major": 2,
       "version_minor": 0
      },
      "text/plain": [
       "Executing notebooks:   0%|          | 0/10 [00:00<?, ?it/s]"
      ]
     },
     "metadata": {},
     "output_type": "display_data"
    },
    {
     "data": {
      "application/vnd.jupyter.widget-view+json": {
       "model_id": "3dc0f69d90bf4a5e8a7a73b0ff08afeb",
       "version_major": 2,
       "version_minor": 0
      },
      "text/plain": [
       "Executing:   0%|          | 0/23 [00:00<?, ?cell/s]"
      ]
     },
     "metadata": {},
     "output_type": "display_data"
    },
    {
     "name": "stdout",
     "output_type": "stream",
     "text": [
      "Notebook 0 executed successfully with parameters: {'disperser': 'G140', 'filter': 'F070LP', 'mode': 'FS', 'save_output': True}\n"
     ]
    },
    {
     "data": {
      "application/vnd.jupyter.widget-view+json": {
       "model_id": "57b33e3f760b4c9796cb7a442f764a86",
       "version_major": 2,
       "version_minor": 0
      },
      "text/plain": [
       "Executing:   0%|          | 0/23 [00:00<?, ?cell/s]"
      ]
     },
     "metadata": {},
     "output_type": "display_data"
    },
    {
     "name": "stdout",
     "output_type": "stream",
     "text": [
      "Notebook 1 executed successfully with parameters: {'disperser': 'G140', 'filter': 'F100LP', 'mode': 'FS', 'save_output': True}\n"
     ]
    },
    {
     "data": {
      "application/vnd.jupyter.widget-view+json": {
       "model_id": "45488a7bfdfb4a888e687632cb8e082a",
       "version_major": 2,
       "version_minor": 0
      },
      "text/plain": [
       "Executing:   0%|          | 0/23 [00:00<?, ?cell/s]"
      ]
     },
     "metadata": {},
     "output_type": "display_data"
    },
    {
     "name": "stdout",
     "output_type": "stream",
     "text": [
      "Notebook 2 executed successfully with parameters: {'disperser': 'G235', 'filter': 'F170LP', 'mode': 'FS', 'save_output': True}\n"
     ]
    },
    {
     "data": {
      "application/vnd.jupyter.widget-view+json": {
       "model_id": "34c6a8aa942440b08106798053529a93",
       "version_major": 2,
       "version_minor": 0
      },
      "text/plain": [
       "Executing:   0%|          | 0/23 [00:00<?, ?cell/s]"
      ]
     },
     "metadata": {},
     "output_type": "display_data"
    },
    {
     "name": "stdout",
     "output_type": "stream",
     "text": [
      "Notebook 3 executed successfully with parameters: {'disperser': 'G395', 'filter': 'F290LP', 'mode': 'FS', 'save_output': True}\n"
     ]
    },
    {
     "data": {
      "application/vnd.jupyter.widget-view+json": {
       "model_id": "5507dfdd6dc8410cadf49e9a7cde9a0b",
       "version_major": 2,
       "version_minor": 0
      },
      "text/plain": [
       "Executing:   0%|          | 0/23 [00:00<?, ?cell/s]"
      ]
     },
     "metadata": {},
     "output_type": "display_data"
    },
    {
     "name": "stdout",
     "output_type": "stream",
     "text": [
      "Notebook 4 executed successfully with parameters: {'disperser': 'G140', 'filter': 'F100LP', 'mode': 'IFS', 'save_output': True}\n"
     ]
    },
    {
     "data": {
      "application/vnd.jupyter.widget-view+json": {
       "model_id": "65626b828739493894cbd6854b3637b0",
       "version_major": 2,
       "version_minor": 0
      },
      "text/plain": [
       "Executing:   0%|          | 0/23 [00:00<?, ?cell/s]"
      ]
     },
     "metadata": {},
     "output_type": "display_data"
    },
    {
     "name": "stdout",
     "output_type": "stream",
     "text": [
      "Notebook 5 executed successfully with parameters: {'disperser': 'G235', 'filter': 'F170LP', 'mode': 'IFS', 'save_output': True}\n"
     ]
    },
    {
     "data": {
      "application/vnd.jupyter.widget-view+json": {
       "model_id": "283cb43979404d9182215659a7d8ef91",
       "version_major": 2,
       "version_minor": 0
      },
      "text/plain": [
       "Executing:   0%|          | 0/23 [00:00<?, ?cell/s]"
      ]
     },
     "metadata": {},
     "output_type": "display_data"
    },
    {
     "name": "stdout",
     "output_type": "stream",
     "text": [
      "Notebook 6 executed successfully with parameters: {'disperser': 'G395', 'filter': 'F290LP', 'mode': 'IFS', 'save_output': True}\n"
     ]
    },
    {
     "data": {
      "application/vnd.jupyter.widget-view+json": {
       "model_id": "f924b555ca0a470395d77d74a4890869",
       "version_major": 2,
       "version_minor": 0
      },
      "text/plain": [
       "Executing:   0%|          | 0/23 [00:00<?, ?cell/s]"
      ]
     },
     "metadata": {},
     "output_type": "display_data"
    },
    {
     "name": "stdout",
     "output_type": "stream",
     "text": [
      "Notebook 7 executed successfully with parameters: {'disperser': 'G140', 'filter': 'F100LP', 'mode': 'MSA', 'save_output': True}\n"
     ]
    },
    {
     "data": {
      "application/vnd.jupyter.widget-view+json": {
       "model_id": "b42785552de447589b05623332c7e169",
       "version_major": 2,
       "version_minor": 0
      },
      "text/plain": [
       "Executing:   0%|          | 0/23 [00:00<?, ?cell/s]"
      ]
     },
     "metadata": {},
     "output_type": "display_data"
    },
    {
     "name": "stdout",
     "output_type": "stream",
     "text": [
      "Notebook 8 executed successfully with parameters: {'disperser': 'G235', 'filter': 'F170LP', 'mode': 'MSA', 'save_output': True}\n"
     ]
    },
    {
     "data": {
      "application/vnd.jupyter.widget-view+json": {
       "model_id": "4f86aba3b21d49cd8c596c55af35af1b",
       "version_major": 2,
       "version_minor": 0
      },
      "text/plain": [
       "Executing:   0%|          | 0/23 [00:00<?, ?cell/s]"
      ]
     },
     "metadata": {},
     "output_type": "display_data"
    },
    {
     "name": "stdout",
     "output_type": "stream",
     "text": [
      "Notebook 9 executed successfully with parameters: {'disperser': 'G395', 'filter': 'F290LP', 'mode': 'MSA', 'save_output': True}\n"
     ]
    }
   ],
   "source": [
    "import papermill as pm\n",
    "import tempfile\n",
    "import os\n",
    "from tqdm.notebook import tqdm\n",
    "\n",
    "input_notebook = \"2_get_lsf_from_planetary_nebula.ipynb\"\n",
    "\n",
    "# Use NamedTemporaryFile to create a temporary file for output.\n",
    "with tempfile.NamedTemporaryFile(suffix=\".ipynb\") as tmp:\n",
    "    output_notebook = tmp.name\n",
    "\n",
    "dispersers = [\"G140\", \"G140\", \"G235\", \"G395\"]\n",
    "filters = [\"F070LP\", \"F100LP\", \"F170LP\", \"F290LP\"]\n",
    "\n",
    "settings = []\n",
    "\n",
    "for mode in [\"FS\", \"IFS\", \"MSA\"]:\n",
    "    for disperser, filter in zip(dispersers, filters):\n",
    "        if filter == \"F070LP\" and mode != \"FS\":\n",
    "            continue\n",
    "\n",
    "        settings.append(\n",
    "            {\n",
    "                \"disperser\": disperser,\n",
    "                \"filter\": filter,\n",
    "                \"mode\": mode,\n",
    "                \"save_output\": True,\n",
    "            }\n",
    "        )\n",
    "\n",
    "for i, parameters in enumerate(tqdm(settings, desc=\"Executing notebooks\")):\n",
    "    pm.execute_notebook(\n",
    "        input_path=input_notebook,\n",
    "        output_path=output_notebook,\n",
    "        parameters=parameters,\n",
    "    )\n",
    "\n",
    "    print(f\"Notebook {i} executed successfully with parameters: {parameters}\")\n",
    "\n",
    "# Remove the temporary output file explicitly if it's not deleted automatically\n",
    "os.remove(output_notebook)"
   ]
  },
  {
   "cell_type": "code",
   "execution_count": null,
   "id": "f96698a6",
   "metadata": {},
   "outputs": [],
   "source": []
  }
 ],
 "metadata": {
  "kernelspec": {
   "display_name": "base",
   "language": "python",
   "name": "python3"
  },
  "language_info": {
   "codemirror_mode": {
    "name": "ipython",
    "version": 3
   },
   "file_extension": ".py",
   "mimetype": "text/x-python",
   "name": "python",
   "nbconvert_exporter": "python",
   "pygments_lexer": "ipython3",
   "version": "3.12.2"
  }
 },
 "nbformat": 4,
 "nbformat_minor": 5
}
