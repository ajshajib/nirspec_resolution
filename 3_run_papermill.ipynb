{
 "cells": [
  {
   "cell_type": "code",
   "execution_count": null,
   "id": "ae695145",
   "metadata": {},
   "outputs": [
    {
     "data": {
      "application/vnd.jupyter.widget-view+json": {
       "model_id": "4df763a0df8a45acb4caa7ad633611c4",
       "version_major": 2,
       "version_minor": 0
      },
      "text/plain": [
       "Executing notebooks:   0%|          | 0/9 [00:00<?, ?it/s]"
      ]
     },
     "metadata": {},
     "output_type": "display_data"
    },
    {
     "data": {
      "application/vnd.jupyter.widget-view+json": {
       "model_id": "267f59299e5e48fda717ef96f94bc5eb",
       "version_major": 2,
       "version_minor": 0
      },
      "text/plain": [
       "Executing:   0%|          | 0/26 [00:00<?, ?cell/s]"
      ]
     },
     "metadata": {},
     "output_type": "display_data"
    },
    {
     "name": "stdout",
     "output_type": "stream",
     "text": [
      "Notebook 0 executed successfully with parameters: {'disperser': 'G140', 'filter': 'F100LP', 'mode': 'FS', 'save_output': True}\n"
     ]
    },
    {
     "data": {
      "application/vnd.jupyter.widget-view+json": {
       "model_id": "f824d1f7826e47eeacd6b7bce9005dbb",
       "version_major": 2,
       "version_minor": 0
      },
      "text/plain": [
       "Executing:   0%|          | 0/26 [00:00<?, ?cell/s]"
      ]
     },
     "metadata": {},
     "output_type": "display_data"
    },
    {
     "name": "stdout",
     "output_type": "stream",
     "text": [
      "Notebook 1 executed successfully with parameters: {'disperser': 'G235', 'filter': 'F170LP', 'mode': 'FS', 'save_output': True}\n"
     ]
    },
    {
     "data": {
      "application/vnd.jupyter.widget-view+json": {
       "model_id": "380b0cfeaf484602bade3ed369bfd054",
       "version_major": 2,
       "version_minor": 0
      },
      "text/plain": [
       "Executing:   0%|          | 0/26 [00:00<?, ?cell/s]"
      ]
     },
     "metadata": {},
     "output_type": "display_data"
    },
    {
     "name": "stdout",
     "output_type": "stream",
     "text": [
      "Notebook 2 executed successfully with parameters: {'disperser': 'G395', 'filter': 'F290LP', 'mode': 'FS', 'save_output': True}\n"
     ]
    },
    {
     "data": {
      "application/vnd.jupyter.widget-view+json": {
       "model_id": "ca8adc06e45a4759bdd65766c86d09fe",
       "version_major": 2,
       "version_minor": 0
      },
      "text/plain": [
       "Executing:   0%|          | 0/26 [00:00<?, ?cell/s]"
      ]
     },
     "metadata": {},
     "output_type": "display_data"
    },
    {
     "name": "stdout",
     "output_type": "stream",
     "text": [
      "Notebook 3 executed successfully with parameters: {'disperser': 'G140', 'filter': 'F100LP', 'mode': 'IFS', 'save_output': True}\n"
     ]
    },
    {
     "data": {
      "application/vnd.jupyter.widget-view+json": {
       "model_id": "a459120f041a4d0e983e6a00c6866616",
       "version_major": 2,
       "version_minor": 0
      },
      "text/plain": [
       "Executing:   0%|          | 0/26 [00:00<?, ?cell/s]"
      ]
     },
     "metadata": {},
     "output_type": "display_data"
    },
    {
     "name": "stdout",
     "output_type": "stream",
     "text": [
      "Notebook 4 executed successfully with parameters: {'disperser': 'G235', 'filter': 'F170LP', 'mode': 'IFS', 'save_output': True}\n"
     ]
    },
    {
     "data": {
      "application/vnd.jupyter.widget-view+json": {
       "model_id": "e68d7241ceef40ee9792b46c261a9d4e",
       "version_major": 2,
       "version_minor": 0
      },
      "text/plain": [
       "Executing:   0%|          | 0/26 [00:00<?, ?cell/s]"
      ]
     },
     "metadata": {},
     "output_type": "display_data"
    },
    {
     "name": "stdout",
     "output_type": "stream",
     "text": [
      "Notebook 5 executed successfully with parameters: {'disperser': 'G395', 'filter': 'F290LP', 'mode': 'IFS', 'save_output': True}\n"
     ]
    },
    {
     "data": {
      "application/vnd.jupyter.widget-view+json": {
       "model_id": "8522c2150b644481ab205f0362d77e40",
       "version_major": 2,
       "version_minor": 0
      },
      "text/plain": [
       "Executing:   0%|          | 0/26 [00:00<?, ?cell/s]"
      ]
     },
     "metadata": {},
     "output_type": "display_data"
    },
    {
     "name": "stdout",
     "output_type": "stream",
     "text": [
      "Notebook 6 executed successfully with parameters: {'disperser': 'G140', 'filter': 'F100LP', 'mode': 'MSA', 'save_output': True}\n"
     ]
    },
    {
     "data": {
      "application/vnd.jupyter.widget-view+json": {
       "model_id": "9ea177b1665947e099bd8c356efb5c67",
       "version_major": 2,
       "version_minor": 0
      },
      "text/plain": [
       "Executing:   0%|          | 0/26 [00:00<?, ?cell/s]"
      ]
     },
     "metadata": {},
     "output_type": "display_data"
    },
    {
     "name": "stdout",
     "output_type": "stream",
     "text": [
      "Notebook 7 executed successfully with parameters: {'disperser': 'G235', 'filter': 'F170LP', 'mode': 'MSA', 'save_output': True}\n"
     ]
    },
    {
     "data": {
      "application/vnd.jupyter.widget-view+json": {
       "model_id": "f38d864db71c42e1bcd5cb54d8bfc04a",
       "version_major": 2,
       "version_minor": 0
      },
      "text/plain": [
       "Executing:   0%|          | 0/26 [00:00<?, ?cell/s]"
      ]
     },
     "metadata": {},
     "output_type": "display_data"
    },
    {
     "name": "stdout",
     "output_type": "stream",
     "text": [
      "Notebook 8 executed successfully with parameters: {'disperser': 'G395', 'filter': 'F290LP', 'mode': 'MSA', 'save_output': True}\n"
     ]
    }
   ],
   "source": [
    "import papermill as pm\n",
    "import tempfile\n",
    "import os\n",
    "from tqdm.notebook import tqdm\n",
    "\n",
    "input_notebook = \"2_get_lsf_from_planetary_nebula.ipynb\"\n",
    "\n",
    "# Use NamedTemporaryFile to create a temporary file for output.\n",
    "with tempfile.NamedTemporaryFile(suffix=\".ipynb\") as tmp:\n",
    "    output_notebook = tmp.name\n",
    "\n",
    "dispersers = [\"G140\", \"G140\", \"G235\", \"G395\"]\n",
    "filters = [\"F070LP\", \"F100LP\", \"F170LP\", \"F290LP\"]\n",
    "\n",
    "settings = []\n",
    "\n",
    "for mode in [\"FS\", \"IFS\", \"MSA\"]:\n",
    "    for disperser, filter in zip(dispersers, filters):\n",
    "        if filter == \"F070LP\" and mode != \"FS\":\n",
    "            continue\n",
    "\n",
    "        settings.append(\n",
    "            {\n",
    "                \"disperser\": disperser,  # + resolution,\n",
    "                \"filter\": filter,\n",
    "                \"mode\": mode,\n",
    "                \"save_output\": True,\n",
    "            }\n",
    "        )\n",
    "\n",
    "for i, parameters in enumerate(tqdm(settings, desc=\"Executing notebooks\")):\n",
    "    pm.execute_notebook(\n",
    "        input_path=input_notebook,\n",
    "        output_path=output_notebook,\n",
    "        parameters=parameters,\n",
    "    )\n",
    "\n",
    "    print(f\"Notebook {i} executed successfully with parameters: {parameters}\")\n",
    "\n",
    "# Remove the temporary output file explicitly if it's not deleted automatically\n",
    "os.remove(output_notebook)"
   ]
  }
 ],
 "metadata": {
  "kernelspec": {
   "display_name": "base",
   "language": "python",
   "name": "python3"
  },
  "language_info": {
   "codemirror_mode": {
    "name": "ipython",
    "version": 3
   },
   "file_extension": ".py",
   "mimetype": "text/x-python",
   "name": "python",
   "nbconvert_exporter": "python",
   "pygments_lexer": "ipython3",
   "version": "3.12.2"
  }
 },
 "nbformat": 4,
 "nbformat_minor": 5
}
